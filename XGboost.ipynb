{
 "cells": [
  {
   "cell_type": "markdown",
   "id": "054a2b00",
   "metadata": {
    "papermill": {
     "duration": 0.006246,
     "end_time": "2023-04-30T10:17:34.617202",
     "exception": false,
     "start_time": "2023-04-30T10:17:34.610956",
     "status": "completed"
    },
    "tags": []
   },
   "source": [
    "**This notebook is an exercise in the [Intermediate Machine Learning](https://www.kaggle.com/learn/intermediate-machine-learning) course.  You can reference the tutorial at [this link](https://www.kaggle.com/alexisbcook/xgboost).**\n",
    "\n",
    "---\n"
   ]
  },
  {
   "cell_type": "markdown",
   "id": "1637ad82",
   "metadata": {
    "papermill": {
     "duration": 0.004946,
     "end_time": "2023-04-30T10:17:34.627751",
     "exception": false,
     "start_time": "2023-04-30T10:17:34.622805",
     "status": "completed"
    },
    "tags": []
   },
   "source": [
    "In this exercise, you will use your new knowledge to train a model with **gradient boosting**.\n",
    "\n",
    "# Setup\n",
    "\n",
    "The questions below will give you feedback on your work. Run the following cell to set up the feedback system."
   ]
  },
  {
   "cell_type": "code",
   "execution_count": 1,
   "id": "c3aff82b",
   "metadata": {
    "execution": {
     "iopub.execute_input": "2023-04-30T10:17:34.640743Z",
     "iopub.status.busy": "2023-04-30T10:17:34.639857Z",
     "iopub.status.idle": "2023-04-30T10:17:36.875008Z",
     "shell.execute_reply": "2023-04-30T10:17:36.873913Z"
    },
    "papermill": {
     "duration": 2.245059,
     "end_time": "2023-04-30T10:17:36.878019",
     "exception": false,
     "start_time": "2023-04-30T10:17:34.632960",
     "status": "completed"
    },
    "tags": []
   },
   "outputs": [
    {
     "name": "stdout",
     "output_type": "stream",
     "text": [
      "Setup Complete\n"
     ]
    }
   ],
   "source": [
    "# Set up code checking\n",
    "import os\n",
    "if not os.path.exists(\"../input/train.csv\"):\n",
    "    os.symlink(\"../input/home-data-for-ml-course/train.csv\", \"../input/train.csv\")  \n",
    "    os.symlink(\"../input/home-data-for-ml-course/test.csv\", \"../input/test.csv\") \n",
    "from learntools.core import binder\n",
    "binder.bind(globals())\n",
    "from learntools.ml_intermediate.ex6 import *\n",
    "print(\"Setup Complete\")"
   ]
  },
  {
   "cell_type": "markdown",
   "id": "d1cb0dbd",
   "metadata": {
    "papermill": {
     "duration": 0.005065,
     "end_time": "2023-04-30T10:17:36.889416",
     "exception": false,
     "start_time": "2023-04-30T10:17:36.884351",
     "status": "completed"
    },
    "tags": []
   },
   "source": [
    "You will work with the [Housing Prices Competition for Kaggle Learn Users](https://www.kaggle.com/c/home-data-for-ml-course) dataset from the previous exercise. \n",
    "\n",
    "![Ames Housing dataset image](https://storage.googleapis.com/kaggle-media/learn/images/lTJVG4e.png)\n",
    "\n",
    "Run the next code cell without changes to load the training and validation sets in `X_train`, `X_valid`, `y_train`, and `y_valid`.  The test set is loaded in `X_test`."
   ]
  },
  {
   "cell_type": "code",
   "execution_count": 2,
   "id": "272d46b0",
   "metadata": {
    "execution": {
     "iopub.execute_input": "2023-04-30T10:17:36.901737Z",
     "iopub.status.busy": "2023-04-30T10:17:36.901331Z",
     "iopub.status.idle": "2023-04-30T10:17:37.084976Z",
     "shell.execute_reply": "2023-04-30T10:17:37.083958Z"
    },
    "papermill": {
     "duration": 0.193039,
     "end_time": "2023-04-30T10:17:37.087913",
     "exception": false,
     "start_time": "2023-04-30T10:17:36.894874",
     "status": "completed"
    },
    "tags": []
   },
   "outputs": [],
   "source": [
    "import pandas as pd\n",
    "from sklearn.model_selection import train_test_split\n",
    "\n",
    "# Read the data\n",
    "X = pd.read_csv('../input/train.csv', index_col='Id')\n",
    "X_test_full = pd.read_csv('../input/test.csv', index_col='Id')\n",
    "\n",
    "# Remove rows with missing target, separate target from predictors\n",
    "X.dropna(axis=0, subset=['SalePrice'], inplace=True)\n",
    "y = X.SalePrice              \n",
    "X.drop(['SalePrice'], axis=1, inplace=True)\n",
    "\n",
    "# Break off validation set from training data\n",
    "X_train_full, X_valid_full, y_train, y_valid = train_test_split(X, y, train_size=0.8, test_size=0.2,\n",
    "                                                                random_state=0)\n",
    "\n",
    "# \"Cardinality\" means the number of unique values in a column\n",
    "# Select categorical columns with relatively low cardinality (convenient but arbitrary)\n",
    "low_cardinality_cols = [cname for cname in X_train_full.columns if X_train_full[cname].nunique() < 10 and \n",
    "                        X_train_full[cname].dtype == \"object\"]\n",
    "\n",
    "# Select numeric columns\n",
    "numeric_cols = [cname for cname in X_train_full.columns if X_train_full[cname].dtype in ['int64', 'float64']]\n",
    "\n",
    "# Keep selected columns only\n",
    "my_cols = low_cardinality_cols + numeric_cols\n",
    "X_train = X_train_full[my_cols].copy()\n",
    "X_valid = X_valid_full[my_cols].copy()\n",
    "X_test = X_test_full[my_cols].copy()\n",
    "\n",
    "# One-hot encode the data (to shorten the code, we use pandas)\n",
    "X_train = pd.get_dummies(X_train)\n",
    "X_valid = pd.get_dummies(X_valid)\n",
    "X_test = pd.get_dummies(X_test)\n",
    "X_train, X_valid = X_train.align(X_valid, join='left', axis=1)\n",
    "X_train, X_test = X_train.align(X_test, join='left', axis=1)"
   ]
  },
  {
   "cell_type": "markdown",
   "id": "7cd7ef35",
   "metadata": {
    "papermill": {
     "duration": 0.005098,
     "end_time": "2023-04-30T10:17:37.098482",
     "exception": false,
     "start_time": "2023-04-30T10:17:37.093384",
     "status": "completed"
    },
    "tags": []
   },
   "source": [
    "# Step 1: Build model\n",
    "\n",
    "### Part A\n",
    "\n",
    "In this step, you'll build and train your first model with gradient boosting.\n",
    "\n",
    "- Begin by setting `my_model_1` to an XGBoost model.  Use the [XGBRegressor](https://xgboost.readthedocs.io/en/latest/python/python_api.html#xgboost.XGBRegressor) class, and set the random seed to 0 (`random_state=0`).  **Leave all other parameters as default.**\n",
    "- Then, fit the model to the training data in `X_train` and `y_train`."
   ]
  },
  {
   "cell_type": "code",
   "execution_count": 3,
   "id": "dd8d3008",
   "metadata": {
    "execution": {
     "iopub.execute_input": "2023-04-30T10:17:37.110981Z",
     "iopub.status.busy": "2023-04-30T10:17:37.110301Z",
     "iopub.status.idle": "2023-04-30T10:17:38.065731Z",
     "shell.execute_reply": "2023-04-30T10:17:38.064757Z"
    },
    "papermill": {
     "duration": 0.964429,
     "end_time": "2023-04-30T10:17:38.068111",
     "exception": false,
     "start_time": "2023-04-30T10:17:37.103682",
     "status": "completed"
    },
    "tags": []
   },
   "outputs": [
    {
     "data": {
      "application/javascript": [
       "parent.postMessage({\"jupyterEvent\": \"custom.exercise_interaction\", \"data\": {\"outcomeType\": 1, \"valueTowardsCompletion\": 0.5, \"interactionType\": 1, \"questionType\": 2, \"questionId\": \"1.1_Model1A\", \"learnToolsVersion\": \"0.3.4\", \"failureMessage\": \"\", \"exceptionClass\": \"\", \"trace\": \"\"}}, \"*\")"
      ],
      "text/plain": [
       "<IPython.core.display.Javascript object>"
      ]
     },
     "metadata": {},
     "output_type": "display_data"
    },
    {
     "data": {
      "text/markdown": [
       "<span style=\"color:#33cc33\">Correct</span>"
      ],
      "text/plain": [
       "Correct"
      ]
     },
     "metadata": {},
     "output_type": "display_data"
    }
   ],
   "source": [
    "from xgboost import XGBRegressor\n",
    "\n",
    "# Define the model\n",
    "my_model_1 = XGBRegressor(random_state=0)\n",
    "\n",
    "# Fit the model\n",
    "my_model_1.fit(X_train, y_train)\n",
    "\n",
    "# Check your answer\n",
    "step_1.a.check()"
   ]
  },
  {
   "cell_type": "code",
   "execution_count": 4,
   "id": "ba59f169",
   "metadata": {
    "execution": {
     "iopub.execute_input": "2023-04-30T10:17:38.081834Z",
     "iopub.status.busy": "2023-04-30T10:17:38.081037Z",
     "iopub.status.idle": "2023-04-30T10:17:38.085956Z",
     "shell.execute_reply": "2023-04-30T10:17:38.084692Z"
    },
    "papermill": {
     "duration": 0.01412,
     "end_time": "2023-04-30T10:17:38.088341",
     "exception": false,
     "start_time": "2023-04-30T10:17:38.074221",
     "status": "completed"
    },
    "tags": []
   },
   "outputs": [],
   "source": [
    "# Lines below will give you a hint or solution code\n",
    "#step_1.a.hint()\n",
    "#step_1.a.solution()"
   ]
  },
  {
   "cell_type": "markdown",
   "id": "a8687327",
   "metadata": {
    "papermill": {
     "duration": 0.005407,
     "end_time": "2023-04-30T10:17:38.099513",
     "exception": false,
     "start_time": "2023-04-30T10:17:38.094106",
     "status": "completed"
    },
    "tags": []
   },
   "source": [
    "### Part B\n",
    "\n",
    "Set `predictions_1` to the model's predictions for the validation data.  Recall that the validation features are stored in `X_valid`."
   ]
  },
  {
   "cell_type": "code",
   "execution_count": 5,
   "id": "f41f062b",
   "metadata": {
    "execution": {
     "iopub.execute_input": "2023-04-30T10:17:38.112923Z",
     "iopub.status.busy": "2023-04-30T10:17:38.112183Z",
     "iopub.status.idle": "2023-04-30T10:17:38.135940Z",
     "shell.execute_reply": "2023-04-30T10:17:38.134931Z"
    },
    "papermill": {
     "duration": 0.033444,
     "end_time": "2023-04-30T10:17:38.138552",
     "exception": false,
     "start_time": "2023-04-30T10:17:38.105108",
     "status": "completed"
    },
    "tags": []
   },
   "outputs": [
    {
     "data": {
      "application/javascript": [
       "parent.postMessage({\"jupyterEvent\": \"custom.exercise_interaction\", \"data\": {\"outcomeType\": 1, \"valueTowardsCompletion\": 0.5, \"interactionType\": 1, \"questionType\": 2, \"questionId\": \"1.2_Model1B\", \"learnToolsVersion\": \"0.3.4\", \"failureMessage\": \"\", \"exceptionClass\": \"\", \"trace\": \"\"}}, \"*\")"
      ],
      "text/plain": [
       "<IPython.core.display.Javascript object>"
      ]
     },
     "metadata": {},
     "output_type": "display_data"
    },
    {
     "data": {
      "text/markdown": [
       "<span style=\"color:#33cc33\">Correct</span>"
      ],
      "text/plain": [
       "Correct"
      ]
     },
     "metadata": {},
     "output_type": "display_data"
    }
   ],
   "source": [
    "from sklearn.metrics import mean_absolute_error\n",
    "\n",
    "# Get predictions\n",
    "predictions_1 = my_model_1.predict(X_valid)\n",
    "\n",
    "# Check your answer\n",
    "step_1.b.check()"
   ]
  },
  {
   "cell_type": "code",
   "execution_count": 6,
   "id": "1e003957",
   "metadata": {
    "execution": {
     "iopub.execute_input": "2023-04-30T10:17:38.153084Z",
     "iopub.status.busy": "2023-04-30T10:17:38.152650Z",
     "iopub.status.idle": "2023-04-30T10:17:38.157398Z",
     "shell.execute_reply": "2023-04-30T10:17:38.156223Z"
    },
    "papermill": {
     "duration": 0.01424,
     "end_time": "2023-04-30T10:17:38.159641",
     "exception": false,
     "start_time": "2023-04-30T10:17:38.145401",
     "status": "completed"
    },
    "tags": []
   },
   "outputs": [],
   "source": [
    "# Lines below will give you a hint or solution code\n",
    "#step_1.b.hint()\n",
    "#step_1.b.solution()"
   ]
  },
  {
   "cell_type": "markdown",
   "id": "4e3c8654",
   "metadata": {
    "papermill": {
     "duration": 0.005578,
     "end_time": "2023-04-30T10:17:38.171107",
     "exception": false,
     "start_time": "2023-04-30T10:17:38.165529",
     "status": "completed"
    },
    "tags": []
   },
   "source": [
    "### Part C\n",
    "\n",
    "Finally, use the `mean_absolute_error()` function to calculate the mean absolute error (MAE) corresponding to the predictions for the validation set.  Recall that the labels for the validation data are stored in `y_valid`."
   ]
  },
  {
   "cell_type": "code",
   "execution_count": 7,
   "id": "b2fc9577",
   "metadata": {
    "execution": {
     "iopub.execute_input": "2023-04-30T10:17:38.186375Z",
     "iopub.status.busy": "2023-04-30T10:17:38.185564Z",
     "iopub.status.idle": "2023-04-30T10:17:38.198247Z",
     "shell.execute_reply": "2023-04-30T10:17:38.196844Z"
    },
    "papermill": {
     "duration": 0.022284,
     "end_time": "2023-04-30T10:17:38.200587",
     "exception": false,
     "start_time": "2023-04-30T10:17:38.178303",
     "status": "completed"
    },
    "tags": []
   },
   "outputs": [
    {
     "name": "stdout",
     "output_type": "stream",
     "text": [
      "Mean Absolute Error: 17662.736729452055\n"
     ]
    },
    {
     "data": {
      "application/javascript": [
       "parent.postMessage({\"jupyterEvent\": \"custom.exercise_interaction\", \"data\": {\"outcomeType\": 1, \"valueTowardsCompletion\": 0.5, \"interactionType\": 1, \"questionType\": 2, \"questionId\": \"1.3_Model1C\", \"learnToolsVersion\": \"0.3.4\", \"failureMessage\": \"\", \"exceptionClass\": \"\", \"trace\": \"\"}}, \"*\")"
      ],
      "text/plain": [
       "<IPython.core.display.Javascript object>"
      ]
     },
     "metadata": {},
     "output_type": "display_data"
    },
    {
     "data": {
      "text/markdown": [
       "<span style=\"color:#33cc33\">Correct</span>"
      ],
      "text/plain": [
       "Correct"
      ]
     },
     "metadata": {},
     "output_type": "display_data"
    }
   ],
   "source": [
    "# Calculate MAE\n",
    "mae_1 = mean_absolute_error(predictions_1, y_valid)\n",
    "# Uncomment to print MAE\n",
    "print(\"Mean Absolute Error:\" , mae_1)\n",
    "\n",
    "# Check your answer\n",
    "step_1.c.check()"
   ]
  },
  {
   "cell_type": "code",
   "execution_count": 8,
   "id": "c6666924",
   "metadata": {
    "execution": {
     "iopub.execute_input": "2023-04-30T10:17:38.216130Z",
     "iopub.status.busy": "2023-04-30T10:17:38.214859Z",
     "iopub.status.idle": "2023-04-30T10:17:38.219836Z",
     "shell.execute_reply": "2023-04-30T10:17:38.218849Z"
    },
    "papermill": {
     "duration": 0.015109,
     "end_time": "2023-04-30T10:17:38.222075",
     "exception": false,
     "start_time": "2023-04-30T10:17:38.206966",
     "status": "completed"
    },
    "tags": []
   },
   "outputs": [],
   "source": [
    "# Lines below will give you a hint or solution code\n",
    "#step_1.c.hint()\n",
    "#step_1.c.solution()"
   ]
  },
  {
   "cell_type": "markdown",
   "id": "5fe081df",
   "metadata": {
    "papermill": {
     "duration": 0.005983,
     "end_time": "2023-04-30T10:17:38.234341",
     "exception": false,
     "start_time": "2023-04-30T10:17:38.228358",
     "status": "completed"
    },
    "tags": []
   },
   "source": [
    "# Step 2: Improve the model\n",
    "\n",
    "Now that you've trained a default model as baseline, it's time to tinker with the parameters, to see if you can get better performance!\n",
    "- Begin by setting `my_model_2` to an XGBoost model, using the [XGBRegressor](https://xgboost.readthedocs.io/en/latest/python/python_api.html#xgboost.XGBRegressor) class.  Use what you learned in the previous tutorial to figure out how to change the default parameters (like `n_estimators` and `learning_rate`) to get better results.\n",
    "- Then, fit the model to the training data in `X_train` and `y_train`.\n",
    "- Set `predictions_2` to the model's predictions for the validation data.  Recall that the validation features are stored in `X_valid`.\n",
    "- Finally, use the `mean_absolute_error()` function to calculate the mean absolute error (MAE) corresponding to the predictions on the validation set.  Recall that the labels for the validation data are stored in `y_valid`.\n",
    "\n",
    "In order for this step to be marked correct, your model in `my_model_2` must attain lower MAE than the model in `my_model_1`. "
   ]
  },
  {
   "cell_type": "code",
   "execution_count": 9,
   "id": "d2f492ce",
   "metadata": {
    "execution": {
     "iopub.execute_input": "2023-04-30T10:17:38.249257Z",
     "iopub.status.busy": "2023-04-30T10:17:38.248546Z",
     "iopub.status.idle": "2023-04-30T10:17:48.361204Z",
     "shell.execute_reply": "2023-04-30T10:17:48.360185Z"
    },
    "papermill": {
     "duration": 10.123003,
     "end_time": "2023-04-30T10:17:48.363693",
     "exception": false,
     "start_time": "2023-04-30T10:17:38.240690",
     "status": "completed"
    },
    "tags": []
   },
   "outputs": [
    {
     "name": "stdout",
     "output_type": "stream",
     "text": [
      "Mean Absolute Error: 16688.691513270547\n"
     ]
    },
    {
     "data": {
      "application/javascript": [
       "parent.postMessage({\"jupyterEvent\": \"custom.exercise_interaction\", \"data\": {\"outcomeType\": 1, \"valueTowardsCompletion\": 0.5, \"interactionType\": 1, \"questionType\": 2, \"questionId\": \"2_Model2\", \"learnToolsVersion\": \"0.3.4\", \"failureMessage\": \"\", \"exceptionClass\": \"\", \"trace\": \"\"}}, \"*\")"
      ],
      "text/plain": [
       "<IPython.core.display.Javascript object>"
      ]
     },
     "metadata": {},
     "output_type": "display_data"
    },
    {
     "data": {
      "text/markdown": [
       "<span style=\"color:#33cc33\">Correct</span>"
      ],
      "text/plain": [
       "Correct"
      ]
     },
     "metadata": {},
     "output_type": "display_data"
    }
   ],
   "source": [
    "# Define the model\n",
    "my_model_2 = XGBRegressor(n_estimators=1000, learning_rate=0.05)\n",
    "\n",
    "# Fit the model\n",
    "my_model_2.fit(X_train, y_train)\n",
    "\n",
    "# Get predictions\n",
    "predictions_2 = my_model_2.predict(X_valid)\n",
    "\n",
    "# Calculate MAE\n",
    "mae_2 = mean_absolute_error(predictions_2, y_valid)\n",
    "\n",
    "# Uncomment to print MAE\n",
    "print(\"Mean Absolute Error:\" , mae_2)\n",
    "\n",
    "# Check your answer\n",
    "step_2.check()"
   ]
  },
  {
   "cell_type": "code",
   "execution_count": 10,
   "id": "c490ee3d",
   "metadata": {
    "execution": {
     "iopub.execute_input": "2023-04-30T10:17:48.381073Z",
     "iopub.status.busy": "2023-04-30T10:17:48.379960Z",
     "iopub.status.idle": "2023-04-30T10:17:48.385171Z",
     "shell.execute_reply": "2023-04-30T10:17:48.384197Z"
    },
    "papermill": {
     "duration": 0.016282,
     "end_time": "2023-04-30T10:17:48.387606",
     "exception": false,
     "start_time": "2023-04-30T10:17:48.371324",
     "status": "completed"
    },
    "tags": []
   },
   "outputs": [],
   "source": [
    "# Lines below will give you a hint or solution code\n",
    "#step_2.hint()\n",
    "#step_2.solution()"
   ]
  },
  {
   "cell_type": "markdown",
   "id": "4507c43e",
   "metadata": {
    "papermill": {
     "duration": 0.006131,
     "end_time": "2023-04-30T10:17:48.400333",
     "exception": false,
     "start_time": "2023-04-30T10:17:48.394202",
     "status": "completed"
    },
    "tags": []
   },
   "source": [
    "# Step 3: Break the model\n",
    "\n",
    "In this step, you will create a model that performs worse than the original model in Step 1.  This will help you to develop your intuition for how to set parameters.  You might even find that you accidentally get better performance, which is ultimately a nice problem to have and a valuable learning experience!\n",
    "- Begin by setting `my_model_3` to an XGBoost model, using the [XGBRegressor](https://xgboost.readthedocs.io/en/latest/python/python_api.html#xgboost.XGBRegressor) class.  Use what you learned in the previous tutorial to figure out how to change the default parameters (like `n_estimators` and `learning_rate`) to design a model to get high MAE.\n",
    "- Then, fit the model to the training data in `X_train` and `y_train`.\n",
    "- Set `predictions_3` to the model's predictions for the validation data.  Recall that the validation features are stored in `X_valid`.\n",
    "- Finally, use the `mean_absolute_error()` function to calculate the mean absolute error (MAE) corresponding to the predictions on the validation set.  Recall that the labels for the validation data are stored in `y_valid`.\n",
    "\n",
    "In order for this step to be marked correct, your model in `my_model_3` must attain higher MAE than the model in `my_model_1`. "
   ]
  },
  {
   "cell_type": "code",
   "execution_count": 11,
   "id": "69f3cad2",
   "metadata": {
    "execution": {
     "iopub.execute_input": "2023-04-30T10:17:48.415146Z",
     "iopub.status.busy": "2023-04-30T10:17:48.414704Z",
     "iopub.status.idle": "2023-04-30T10:17:48.487440Z",
     "shell.execute_reply": "2023-04-30T10:17:48.486489Z"
    },
    "papermill": {
     "duration": 0.083551,
     "end_time": "2023-04-30T10:17:48.490266",
     "exception": false,
     "start_time": "2023-04-30T10:17:48.406715",
     "status": "completed"
    },
    "tags": []
   },
   "outputs": [
    {
     "name": "stdout",
     "output_type": "stream",
     "text": [
      "Mean Absolute Error: 127895.0828807256\n"
     ]
    },
    {
     "data": {
      "application/javascript": [
       "parent.postMessage({\"jupyterEvent\": \"custom.exercise_interaction\", \"data\": {\"outcomeType\": 1, \"valueTowardsCompletion\": 0.5, \"interactionType\": 1, \"questionType\": 2, \"questionId\": \"3_Model3\", \"learnToolsVersion\": \"0.3.4\", \"failureMessage\": \"\", \"exceptionClass\": \"\", \"trace\": \"\"}}, \"*\")"
      ],
      "text/plain": [
       "<IPython.core.display.Javascript object>"
      ]
     },
     "metadata": {},
     "output_type": "display_data"
    },
    {
     "data": {
      "text/markdown": [
       "<span style=\"color:#33cc33\">Correct</span>"
      ],
      "text/plain": [
       "Correct"
      ]
     },
     "metadata": {},
     "output_type": "display_data"
    }
   ],
   "source": [
    "# Define the model\n",
    "my_model_3 = XGBRegressor(n_estimators=1)\n",
    "\n",
    "# Fit the model\n",
    "my_model_3.fit(X_train, y_train)\n",
    "\n",
    "# Get predictions\n",
    "predictions_3 = my_model_3.predict(X_valid)\n",
    "\n",
    "# Calculate MAE\n",
    "mae_3 = mean_absolute_error(predictions_3, y_valid)\n",
    "\n",
    "# Uncomment to print MAE\n",
    "print(\"Mean Absolute Error:\" , mae_3)\n",
    "\n",
    "# Check your answer\n",
    "step_3.check()"
   ]
  },
  {
   "cell_type": "code",
   "execution_count": 12,
   "id": "6bb1e2aa",
   "metadata": {
    "execution": {
     "iopub.execute_input": "2023-04-30T10:17:48.506242Z",
     "iopub.status.busy": "2023-04-30T10:17:48.505116Z",
     "iopub.status.idle": "2023-04-30T10:17:48.510363Z",
     "shell.execute_reply": "2023-04-30T10:17:48.509491Z"
    },
    "papermill": {
     "duration": 0.015567,
     "end_time": "2023-04-30T10:17:48.512856",
     "exception": false,
     "start_time": "2023-04-30T10:17:48.497289",
     "status": "completed"
    },
    "tags": []
   },
   "outputs": [],
   "source": [
    "# Lines below will give you a hint or solution code\n",
    "#step_3.hint()\n",
    "#step_3.solution()"
   ]
  },
  {
   "cell_type": "markdown",
   "id": "ff8ac836",
   "metadata": {
    "papermill": {
     "duration": 0.006865,
     "end_time": "2023-04-30T10:17:48.527096",
     "exception": false,
     "start_time": "2023-04-30T10:17:48.520231",
     "status": "completed"
    },
    "tags": []
   },
   "source": [
    "# Keep going\n",
    "\n",
    "Continue to learn about **[data leakage](https://www.kaggle.com/alexisbcook/data-leakage)**.  This is an important issue for a data scientist to understand, and it has the potential to ruin your models in subtle and dangerous ways!"
   ]
  },
  {
   "cell_type": "markdown",
   "id": "e56f93f0",
   "metadata": {
    "papermill": {
     "duration": 0.006433,
     "end_time": "2023-04-30T10:17:48.540299",
     "exception": false,
     "start_time": "2023-04-30T10:17:48.533866",
     "status": "completed"
    },
    "tags": []
   },
   "source": [
    "---\n",
    "\n",
    "\n",
    "\n",
    "\n",
    "*Have questions or comments? Visit the [course discussion forum](https://www.kaggle.com/learn/intermediate-machine-learning/discussion) to chat with other learners.*"
   ]
  }
 ],
 "metadata": {
  "kernelspec": {
   "display_name": "Python 3",
   "language": "python",
   "name": "python3"
  },
  "language_info": {
   "codemirror_mode": {
    "name": "ipython",
    "version": 3
   },
   "file_extension": ".py",
   "mimetype": "text/x-python",
   "name": "python",
   "nbconvert_exporter": "python",
   "pygments_lexer": "ipython3",
   "version": "3.7.12"
  },
  "papermill": {
   "default_parameters": {},
   "duration": 24.405698,
   "end_time": "2023-04-30T10:17:49.268586",
   "environment_variables": {},
   "exception": null,
   "input_path": "__notebook__.ipynb",
   "output_path": "__notebook__.ipynb",
   "parameters": {},
   "start_time": "2023-04-30T10:17:24.862888",
   "version": "2.4.0"
  }
 },
 "nbformat": 4,
 "nbformat_minor": 5
}
